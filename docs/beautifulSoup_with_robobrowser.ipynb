{
 "cells": [
  {
   "cell_type": "code",
   "execution_count": 1,
   "metadata": {},
   "outputs": [],
   "source": [
    "import re\n",
    "from robobrowser import RoboBrowser"
   ]
  },
  {
   "cell_type": "markdown",
   "metadata": {},
   "source": [
    "## `find` 方法\n",
    "\n",
    "`find` 方法会返回页面上符合条件的**第一个**元素"
   ]
  },
  {
   "cell_type": "code",
   "execution_count": 2,
   "metadata": {},
   "outputs": [],
   "source": [
    "url = 'http://itest.info/courses/2'\n",
    "browser = RoboBrowser(history=True)\n",
    "browser.open(url)"
   ]
  },
  {
   "cell_type": "markdown",
   "metadata": {},
   "source": [
    "通过 `tag name` 抓取"
   ]
  },
  {
   "cell_type": "code",
   "execution_count": 3,
   "metadata": {},
   "outputs": [
    {
     "name": "stdout",
     "output_type": "stream",
     "text": [
      "<title>重定向科技</title>\n"
     ]
    },
    {
     "name": "stderr",
     "output_type": "stream",
     "text": [
      "C:\\Software\\Anaconda3\\envs\\tensorflow\\lib\\site-packages\\bs4\\__init__.py:181: UserWarning: No parser was explicitly specified, so I'm using the best available HTML parser for this system (\"lxml\"). This usually isn't a problem, but if you run this code on another system, or in a different virtual environment, it may use a different parser and behave differently.\n",
      "\n",
      "The code that caused this warning is on line 193 of the file C:\\Software\\Anaconda3\\envs\\tensorflow\\lib\\runpy.py. To get rid of this warning, change code that looks like this:\n",
      "\n",
      " BeautifulSoup(YOUR_MARKUP})\n",
      "\n",
      "to this:\n",
      "\n",
      " BeautifulSoup(YOUR_MARKUP, \"lxml\")\n",
      "\n",
      "  markup_type=markup_type))\n"
     ]
    }
   ],
   "source": [
    "# <title>重定向科技</title>\n",
    "title = browser.find('title')\n",
    "print(title)"
   ]
  },
  {
   "cell_type": "markdown",
   "metadata": {},
   "source": [
    "通过属性 `attribute` 抓取"
   ]
  },
  {
   "cell_type": "code",
   "execution_count": 4,
   "metadata": {},
   "outputs": [
    {
     "name": "stdout",
     "output_type": "stream",
     "text": [
      "/assets/logo-987d28778287e10bad41688b96c5ba9104d4943aee25357ad3f07b6a5e215ef3.png\n"
     ]
    }
   ],
   "source": [
    "# <img id=\"logo-header\" src=\"/assets/logo-0648b8fb283a9802457da74f0c157b12.png\" />\n",
    "img = browser.find(id='logo-header')\n",
    "print(img['src'])"
   ]
  },
  {
   "cell_type": "code",
   "execution_count": 6,
   "metadata": {},
   "outputs": [
    {
     "name": "stdout",
     "output_type": "stream",
     "text": [
      "Selenium自动化测试--Python班\n"
     ]
    }
   ],
   "source": [
    "# <a href=\"/courses/2\">Selenium自动化测试--Python班</a>\n",
    "link = browser.find(href='/courses/2').text\n",
    "print(link)"
   ]
  },
  {
   "cell_type": "code",
   "execution_count": 8,
   "metadata": {},
   "outputs": [
    {
     "name": "stdout",
     "output_type": "stream",
     "text": [
      "Selenium自动化测试--Python班\n"
     ]
    }
   ],
   "source": [
    "# <li class=\"active\">python selenium自动化测试班</li>\n",
    "class_name = browser.find(class_='active', text=re.compile('Python')).text\n",
    "print(class_name)"
   ]
  },
  {
   "cell_type": "markdown",
   "metadata": {},
   "source": [
    "## `find_all` 方法\n",
    "\n",
    "`find_all` 方法的用法跟 `find` 基本相同，但是 `find_all` 会返回所有符合条件的 `tag` 集合（ResultSet）"
   ]
  },
  {
   "cell_type": "code",
   "execution_count": 9,
   "metadata": {},
   "outputs": [],
   "source": [
    "url = 'http://itest.info/courses/2'\n",
    "browser = RoboBrowser(history=True)\n",
    "browser.open(url)"
   ]
  },
  {
   "cell_type": "markdown",
   "metadata": {},
   "source": [
    "页面上所有的 `a` 标签"
   ]
  },
  {
   "cell_type": "code",
   "execution_count": 10,
   "metadata": {},
   "outputs": [
    {
     "name": "stdout",
     "output_type": "stream",
     "text": [
      "简体中文\n",
      "帮助\n",
      "\n",
      "首页\n",
      "开班信息\n",
      "所有课程\n",
      "Android测试开发（Java语言）\n",
      "性能测试从入门到精通班\n",
      "接口自动化测试开发--Python班\n",
      "Selenium自动化测试--Java班\n",
      "Selenium自动化测试--Python班\n",
      "常见问题\n",
      "视频教程\n",
      "测试教程\n",
      "测试论坛\n",
      "关于我们\n",
      "首页\n",
      "所有课程\n",
      "实战班第一节：分层测试与登录的自动化测试用例\n",
      "常见问题\n",
      "我要报名\n",
      "Android测试开发（Java语言）\n",
      "性能测试从入门到精通班\n",
      "接口自动化测试开发--Python班\n",
      "Selenium自动化测试--Java班\n",
      "重定向科技\n",
      "虫师的blog\n",
      "乙醇的blog\n",
      "测试学习小组\n",
      "测试教程网\n",
      "重定向科技\n"
     ]
    },
    {
     "name": "stderr",
     "output_type": "stream",
     "text": [
      "C:\\Software\\Anaconda3\\envs\\tensorflow\\lib\\site-packages\\bs4\\__init__.py:181: UserWarning: No parser was explicitly specified, so I'm using the best available HTML parser for this system (\"lxml\"). This usually isn't a problem, but if you run this code on another system, or in a different virtual environment, it may use a different parser and behave differently.\n",
      "\n",
      "The code that caused this warning is on line 193 of the file C:\\Software\\Anaconda3\\envs\\tensorflow\\lib\\runpy.py. To get rid of this warning, change code that looks like this:\n",
      "\n",
      " BeautifulSoup(YOUR_MARKUP})\n",
      "\n",
      "to this:\n",
      "\n",
      " BeautifulSoup(YOUR_MARKUP, \"lxml\")\n",
      "\n",
      "  markup_type=markup_type))\n"
     ]
    }
   ],
   "source": [
    "all_links = browser.find_all('a')\n",
    "for link in all_links:\n",
    "    print(link.text)"
   ]
  },
  {
   "cell_type": "markdown",
   "metadata": {},
   "source": [
    "页面上所有 `class` 是 `container` 的 `div`"
   ]
  },
  {
   "cell_type": "code",
   "execution_count": 11,
   "metadata": {},
   "outputs": [
    {
     "name": "stdout",
     "output_type": "stream",
     "text": [
      "[<div class=\"container\">\n",
      "<ul class=\"loginbar pull-right\"><li><i class=\"icon-globe\"></i><a>简体中文</a></li><li class=\"devider\"></li><li><a>帮助</a></li></ul>\n",
      "</div>, <div class=\"container\">\n",
      "<div class=\"navbar-header\"><button class=\"navbar-toggle\" data-target=\".navbar-responsive-collapse\" data-toggle=\"collapse\" type=\"button\"><span class=\"sr-only\">切换导航</span><span class=\"icon-bar\"></span><span class=\"icon-bar\"></span><span class=\"icon-bar\"></span></button><a class=\"navbar-brand\" href=\"/\"><img id=\"logo-header\" src=\"/assets/logo-987d28778287e10bad41688b96c5ba9104d4943aee25357ad3f07b6a5e215ef3.png\"/></a></div><div class=\"collapse navbar-collapse navbar-responsive-collapse\"><ul class=\"nav navbar-nav navbar-right\"><li class=\"dropdown \"><a href=\"/\">首页</a></li><li class=\"dropdown \"><a href=\"/newclass\">开班信息</a></li><li class=\"dropdown active\"><a class=\"dropdown-toggle\" data-close-others=\"false\" data-delay=\"0\" data-hover=\"dropdown\" data-toggle=\"dropdown\" href=\"#\">所有课程<i class=\"icon-angle-down\"></i></a><ul class=\"dropdown-menu\"><li><a href=\"/courses/8\">Android测试开发（Java语言）</a></li><li><a href=\"/courses/7\">性能测试从入门到精通班</a></li><li><a href=\"/courses/6\">接口自动化测试开发--Python班</a></li><li><a href=\"/courses/3\">Selenium自动化测试--Java班</a></li><li><a href=\"/courses/2\">Selenium自动化测试--Python班</a></li></ul></li><li class=\"dropdown \"><a href=\"/faq\">常见问题</a></li><li class=\"dropdown \"><a href=\"/videos\">视频教程</a></li><li class=\"dropdown\"><a href=\"http://www.testclass.net\" target=\"_blank\">测试教程</a></li><li class=\"dropdown\"><a href=\"http://www.testpub.cn\" target=\"_blank\">测试论坛</a></li><li class=\"dropdown \"><a href=\"/about\">关于我们</a></li></ul></div>\n",
      "</div>, <div class=\"container\"><h1 class=\"pull-left\">Selenium自动化测试--Python班</h1><ul class=\"pull-right breadcrumb\"><li><a href=\"http://www.itest.info/\">首页</a></li><li><a href=\"/courses\">所有课程</a></li><li class=\"active\">Selenium自动化测试--Python班</li></ul></div>, <div class=\"container \">\n",
      "<div class=\"row team margin-bottom-20\"><div class=\"col-md-2 hidden-xs\"><div class=\"thumbnail-style\"><img alt=\"Teacher\" class=\"img-responsive\" src=\"/assets/teacher-9df725707b4c7eefce9dde0ffa5f54985e96c50a917172ac5683a27f77358d06.jpg\"/><h3>虫师 &amp; 乙醇</h3><p>虫师：高级测试工程师。\r\n",
      "乙醇：全栈工程师。</p></div></div><div class=\"col-md-7\"><div class=\"margin-bottom-10\"></div><div class=\"headline\"><h2>Selenium自动化测试--Python班</h2></div><div class=\"tag-box tag-box-v2\">经典课程-口碑之选，赠送全新教材，包含appium。</div><h3>课程试听</h3><a href=\"https://v.qq.com/x/page/o0521ytpqbf.html\" target=\"_blank\">实战班第一节：分层测试与登录的自动化测试用例</a><p></p><p><strong class=\"text text-danger\">2018年4月1日</strong>开课，边学边换工作，不可错过。</p>\n",
      "<p><strong>QQ或者YY直播授课，全程实战演示。费用2999，为期4-5个月，包含selenium和appium自动化测试，没有python基础也可以学习，，一期学不会下期继续免费学。每次课程都会录屏，赶不上直播会发放录播视频，不用担心缺课</strong></p>\n",
      "<p>请先阅读：<a href=\"/faq\">常见问题</a></p>\n",
      "<p>预约报名：<a href=\"http://srs.testpub.cn/apply_records/new\">我要报名</a></p>\n",
      "<p>报名咨询QQ：12079456</p>\n",
      "<p><strong>2018年4月10日开课，为期4-5个月</strong></p>\n",
      "<p>每周日下午2点到5点上课</p>\n",
      "<p><br/></p>\n",
      "<h4>课程特色：</h4>\n",
      "<hr/>\n",
      "<ul>\n",
      "<li>经历五年打磨经典课程Selenium自动化课程。</li>\n",
      "<li>Python已经成为测试人员必备编程语言。</li>\n",
      "<li>我们除了注重自动化技术的传授，更注重开发思维的培养。</li>\n",
      "<li><font color=\"red\">新增appium自动化测试</font></li>\n",
      "</ul>\n",
      "<p><br/></p>\n",
      "<h4>课程大纲</h4>\n",
      "<hr/>\n",
      "<p><strong>基础部分：</strong></p>\n",
      "<ul>\n",
      "<li>分层自动化思想</li>\n",
      "<li>Slenium介绍\n",
      "\n",
      "<ul>\n",
      "<li>Selenium1.0/2.0/3.0</li>\n",
      "<li>Slenium RC, WebDriver, IDE, Grid</li>\n",
      "</ul></li>\n",
      "<li>Python+selenium环境\n",
      "\n",
      "<ul>\n",
      "<li>版本选择</li>\n",
      "<li>安装selenium</li>\n",
      "<li>浏览器驱动设置</li>\n",
      "</ul></li>\n",
      "<li>Python基础\n",
      "\n",
      "<ul>\n",
      "<li>输入、输出、数组、字典，分支、循环</li>\n",
      "<li>引包机制</li>\n",
      "<li>函数、类、方法</li>\n",
      "<li>异常处理</li>\n",
      "</ul></li>\n",
      "<li>WebDriver API\n",
      "\n",
      "<ul>\n",
      "<li>元素定位</li>\n",
      "<li>20个例子演示WebDriver各种场景的操作。</li>\n",
      "</ul></li>\n",
      "<li>自动化测试模型\n",
      "\n",
      "<ul>\n",
      "<li>线性测试、模块化、数据驱动、关键字驱动</li>\n",
      "<li>模块化实例</li>\n",
      "<li>数据驱实例</li>\n",
      "<li>txt、csv、xml文件的操作</li>\n",
      "</ul></li>\n",
      "<li>selenium IDE\n",
      "\n",
      "<ul>\n",
      "<li>脚本的录制与导出</li>\n",
      "<li>unittest单元测试框架</li>\n",
      "<li>编写单元测试</li>\n",
      "<li>断言</li>\n",
      "<li>fixture</li>\n",
      "<li>测试套件</li>\n",
      "<li>测试运行</li>\n",
      "<li>编写selenium自动化测试</li>\n",
      "</ul></li>\n",
      "<li>集成HTMLTestRunner</li>\n",
      "<li>集成自动发邮件</li>\n",
      "<li>Selenium Grid2\n",
      "\n",
      "<ul>\n",
      "<li>selenium源码分析</li>\n",
      "<li>多浏览器运行测试</li>\n",
      "<li>多平台多浏览器运行测试</li>\n",
      "<li>各种驱动支持</li>\n",
      "</ul></li>\n",
      "<li>docker-selenium\n",
      "\n",
      "<ul>\n",
      "<li>docker 安装</li>\n",
      "<li>docker相关概念</li>\n",
      "<li>docker-selenium镜像安装与应用</li>\n",
      "</ul></li>\n",
      "<li>Page Object设计模式</li>\n",
      "<li>基于selenium的二次封装</li>\n",
      "<li>pytest单元测试框架\n",
      "\n",
      "<ul>\n",
      "<li>减少用例编写</li>\n",
      "<li>减少测试运行时间</li>\n",
      "<li>用例失败自动截图</li>\n",
      "</ul></li>\n",
      "<li>实战\n",
      "\n",
      "<ul>\n",
      "<li>基本pytest单元测试框架构建自动化测试项目</li>\n",
      "</ul></li>\n",
      "</ul>\n",
      "<p><strong>appium自动化测试</strong></p>\n",
      "<ul>\n",
      "<li>appium基础\n",
      "\n",
      "<ul>\n",
      "<li>appium介绍，与selenium的关系</li>\n",
      "<li>appium工作原理</li>\n",
      "<li>android SDK</li>\n",
      "<li>appium-python-client</li>\n",
      "</ul></li>\n",
      "<li>appium应用\n",
      "\n",
      "<ul>\n",
      "<li>app元素定位</li>\n",
      "<li>appium API</li>\n",
      "<li>结合 单元测试框架编写自动化测试</li>\n",
      "</ul></li>\n",
      "</ul>\n",
      "<p><strong>实战部分：</strong></p>\n",
      "<ul>\n",
      "<li>安装php + msyql + apache</li>\n",
      "<li>如何编写自动化测试用例</li>\n",
      "<li>自动化测试的流程是什么？</li>\n",
      "<li>分层测试思想与自动化的ui测试</li>\n",
      "<li>实战：几乎所有系统都有的登录功能与相关断言</li>\n",
      "<li>作业：数据驱动的用例设计及精讲</li>\n",
      "<li>实战：创建一篇博客文章与富文本编辑器的操作</li>\n",
      "<li>作业：各种表单实战及精讲</li>\n",
      "<li>实战：删除文章与页面事件的模拟</li>\n",
      "<li>作业：实战iframe与动态等待及精讲</li>\n",
      "<li>实战：使用po重构测试用例与框架的雏形</li>\n",
      "<li>实战：框架中自动包含动态等待及出错截图</li>\n",
      "<li>作业：批量执行用例与所有用例的po重构</li>\n",
      "<li>CI持续集成精讲，测试框架上CI进行持续测试</li>\n",
      "<li>扩展内容：html+css选择器+javascript</li>\n",
      "</ul>\n",
      "</div><div class=\"col-md-3\"><div class=\"headline\"><h3>相关课程</h3><ul class=\"list-unstyled with-margin-top\"><li><i class=\"icon-ok color-green\"></i><a href=\"/courses/8\">Android测试开发（Java语言）</a></li><li><i class=\"icon-ok color-green\"></i><a href=\"/courses/7\">性能测试从入门到精通班</a></li><li><i class=\"icon-ok color-green\"></i><a href=\"/courses/6\">接口自动化测试开发--Python班</a></li><li><i class=\"icon-ok color-green\"></i><a href=\"/courses/3\">Selenium自动化测试--Java班</a></li></ul></div></div></div>\n",
      "</div>, <div class=\"container\">\n",
      "<div class=\"row\"><div class=\"col-md-4 md-margin-bottom-40\"><div class=\"headline\"><h2>关于</h2></div><p class=\"margin-bottom-25 md-margin-bottom-40\"><a href=\"/about\">重定向科技</a></p></div><div class=\"col-md-4 md-margin-bottom-40\"><div class=\"headline\"><h2>友情链接</h2></div><p class=\"margin-bottom-25 md-margin-bottom-40\"><a href=\"http://www.cnblogs.com/fnng/\" target=\"_blank\">虫师的blog</a><br/><a href=\"http://www.cnblogs.com/nbkhic/\" target=\"_blank\">乙醇的blog</a><br/><a href=\"http://testpub.cn/\" target=\"_blank\">测试学习小组</a><br/><a href=\"http://www.testclass.net/\" target=\"_blank\">测试教程网</a><br/></p></div><div class=\"col-md-4 md-margin-bottom-40\"><div class=\"headline\"><h2>联系我们</h2></div><address class=\"md-margin-bottom-40\">邮箱: service@itest.info\r\n",
      "<br/><br/><img src=\"http://orru5lls3.bkt.clouddn.com/tc.jpg\" style=\"padding-right: 20px;\"/><img src=\"http://orru5lls3.bkt.clouddn.com/weibo.jpg\"/></address></div></div>\n",
      "</div>, <div class=\"container\">\n",
      "<div class=\"row\"><div class=\"col-md-6\"><p class=\"copyright-space\">2018 © 重定向科技 ALL Rights Reserved.<a href=\"/about\">重定向科技</a>; 粤ICP备17097242号.</p></div><div class=\"col-md-6\"><p class=\"copyright-space\"></p></div></div>\n",
      "</div>]\n"
     ]
    }
   ],
   "source": [
    "divs = browser.find_all(class_='container')\n",
    "print(divs)"
   ]
  },
  {
   "cell_type": "markdown",
   "metadata": {},
   "source": [
    "页面上前2个 `p`， `limit` 参数控制返回的元素个数"
   ]
  },
  {
   "cell_type": "code",
   "execution_count": 12,
   "metadata": {},
   "outputs": [
    {
     "name": "stdout",
     "output_type": "stream",
     "text": [
      "[<p>虫师：高级测试工程师。\r\n",
      "乙醇：全栈工程师。</p>, <p></p>]\n"
     ]
    }
   ],
   "source": [
    "top_two_p = browser.find_all('p', limit=2)\n",
    "print(top_two_p)"
   ]
  },
  {
   "cell_type": "markdown",
   "metadata": {},
   "source": [
    "## `select` 方法\n",
    "\n",
    "`select` 方法支持css选择器，返回 `list` 对象"
   ]
  },
  {
   "cell_type": "code",
   "execution_count": 13,
   "metadata": {},
   "outputs": [],
   "source": [
    "url = 'http://itest.info/courses/2'\n",
    "browser = RoboBrowser(history=True)\n",
    "browser.open(url)"
   ]
  },
  {
   "cell_type": "markdown",
   "metadata": {},
   "source": [
    "页面上所有的 `a` 标签"
   ]
  },
  {
   "cell_type": "code",
   "execution_count": 14,
   "metadata": {},
   "outputs": [
    {
     "name": "stdout",
     "output_type": "stream",
     "text": [
      "简体中文\n",
      "帮助\n",
      "\n",
      "首页\n",
      "开班信息\n",
      "所有课程\n",
      "Android测试开发（Java语言）\n",
      "性能测试从入门到精通班\n",
      "接口自动化测试开发--Python班\n",
      "Selenium自动化测试--Java班\n",
      "Selenium自动化测试--Python班\n",
      "常见问题\n",
      "视频教程\n",
      "测试教程\n",
      "测试论坛\n",
      "关于我们\n",
      "首页\n",
      "所有课程\n",
      "实战班第一节：分层测试与登录的自动化测试用例\n",
      "常见问题\n",
      "我要报名\n",
      "Android测试开发（Java语言）\n",
      "性能测试从入门到精通班\n",
      "接口自动化测试开发--Python班\n",
      "Selenium自动化测试--Java班\n",
      "重定向科技\n",
      "虫师的blog\n",
      "乙醇的blog\n",
      "测试学习小组\n",
      "测试教程网\n",
      "重定向科技\n"
     ]
    },
    {
     "name": "stderr",
     "output_type": "stream",
     "text": [
      "C:\\Software\\Anaconda3\\envs\\tensorflow\\lib\\site-packages\\bs4\\__init__.py:181: UserWarning: No parser was explicitly specified, so I'm using the best available HTML parser for this system (\"lxml\"). This usually isn't a problem, but if you run this code on another system, or in a different virtual environment, it may use a different parser and behave differently.\n",
      "\n",
      "The code that caused this warning is on line 193 of the file C:\\Software\\Anaconda3\\envs\\tensorflow\\lib\\runpy.py. To get rid of this warning, change code that looks like this:\n",
      "\n",
      " BeautifulSoup(YOUR_MARKUP})\n",
      "\n",
      "to this:\n",
      "\n",
      " BeautifulSoup(YOUR_MARKUP, \"lxml\")\n",
      "\n",
      "  markup_type=markup_type))\n"
     ]
    }
   ],
   "source": [
    "all_links = browser.select('a')\n",
    "for link in all_links:\n",
    "    print(link.text)"
   ]
  },
  {
   "cell_type": "markdown",
   "metadata": {},
   "source": [
    "页面上所有 `class` 是 `container` 的 `div`"
   ]
  },
  {
   "cell_type": "code",
   "execution_count": 15,
   "metadata": {},
   "outputs": [
    {
     "name": "stdout",
     "output_type": "stream",
     "text": [
      "6\n"
     ]
    }
   ],
   "source": [
    "divs = browser.select('.container')\n",
    "print(len(divs))"
   ]
  },
  {
   "cell_type": "markdown",
   "metadata": {},
   "source": [
    "## 其他技巧\n",
    "\n",
    "- 找到页面上所有具有 `id` 属性的元素 `browser.find_all(id=True)`\n",
    "- 不递归查找元素：只在直接的子代中查找 `browser.find('p', recursive=False)`"
   ]
  },
  {
   "cell_type": "code",
   "execution_count": null,
   "metadata": {},
   "outputs": [],
   "source": []
  }
 ],
 "metadata": {
  "kernelspec": {
   "display_name": "tensorflow",
   "language": "python",
   "name": "tensorflow"
  },
  "language_info": {
   "codemirror_mode": {
    "name": "ipython",
    "version": 3
   },
   "file_extension": ".py",
   "mimetype": "text/x-python",
   "name": "python",
   "nbconvert_exporter": "python",
   "pygments_lexer": "ipython3",
   "version": "3.5.4"
  }
 },
 "nbformat": 4,
 "nbformat_minor": 2
}
